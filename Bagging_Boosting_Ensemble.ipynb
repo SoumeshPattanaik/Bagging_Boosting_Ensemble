{
 "cells": [
  {
   "cell_type": "code",
   "execution_count": 60,
   "id": "c13c20f1",
   "metadata": {},
   "outputs": [],
   "source": [
    "import numpy as np\n",
    "import pandas as pd\n",
    "from sklearn.utils import resample\n",
    "from sklearn.tree import DecisionTreeClassifier\n",
    "from sklearn.ensemble import RandomForestClassifier\n",
    "from sklearn.linear_model import LogisticRegression\n",
    "from sklearn.preprocessing import StandardScaler\n",
    "from sklearn import model_selection\n",
    "from sklearn import metrics\n",
    "from sklearn.decomposition import PCA\n",
    "from scipy.stats import zscore\n",
    "import matplotlib.pyplot as plt\n",
    "%matplotlib inline"
   ]
  },
  {
   "cell_type": "code",
   "execution_count": 61,
   "id": "43c0bb5b",
   "metadata": {},
   "outputs": [],
   "source": [
    "df = pd.read_csv('pima-indians-diabetes-1.data')"
   ]
  },
  {
   "cell_type": "code",
   "execution_count": 62,
   "id": "bce157c5",
   "metadata": {},
   "outputs": [
    {
     "data": {
      "text/html": [
       "<div>\n",
       "<style scoped>\n",
       "    .dataframe tbody tr th:only-of-type {\n",
       "        vertical-align: middle;\n",
       "    }\n",
       "\n",
       "    .dataframe tbody tr th {\n",
       "        vertical-align: top;\n",
       "    }\n",
       "\n",
       "    .dataframe thead th {\n",
       "        text-align: right;\n",
       "    }\n",
       "</style>\n",
       "<table border=\"1\" class=\"dataframe\">\n",
       "  <thead>\n",
       "    <tr style=\"text-align: right;\">\n",
       "      <th></th>\n",
       "      <th>6</th>\n",
       "      <th>148</th>\n",
       "      <th>72</th>\n",
       "      <th>35</th>\n",
       "      <th>0</th>\n",
       "      <th>33.6</th>\n",
       "      <th>0.627</th>\n",
       "      <th>50</th>\n",
       "      <th>1</th>\n",
       "    </tr>\n",
       "  </thead>\n",
       "  <tbody>\n",
       "    <tr>\n",
       "      <th>0</th>\n",
       "      <td>1</td>\n",
       "      <td>85</td>\n",
       "      <td>66</td>\n",
       "      <td>29</td>\n",
       "      <td>0</td>\n",
       "      <td>26.6</td>\n",
       "      <td>0.351</td>\n",
       "      <td>31</td>\n",
       "      <td>0</td>\n",
       "    </tr>\n",
       "    <tr>\n",
       "      <th>1</th>\n",
       "      <td>8</td>\n",
       "      <td>183</td>\n",
       "      <td>64</td>\n",
       "      <td>0</td>\n",
       "      <td>0</td>\n",
       "      <td>23.3</td>\n",
       "      <td>0.672</td>\n",
       "      <td>32</td>\n",
       "      <td>1</td>\n",
       "    </tr>\n",
       "    <tr>\n",
       "      <th>2</th>\n",
       "      <td>1</td>\n",
       "      <td>89</td>\n",
       "      <td>66</td>\n",
       "      <td>23</td>\n",
       "      <td>94</td>\n",
       "      <td>28.1</td>\n",
       "      <td>0.167</td>\n",
       "      <td>21</td>\n",
       "      <td>0</td>\n",
       "    </tr>\n",
       "    <tr>\n",
       "      <th>3</th>\n",
       "      <td>0</td>\n",
       "      <td>137</td>\n",
       "      <td>40</td>\n",
       "      <td>35</td>\n",
       "      <td>168</td>\n",
       "      <td>43.1</td>\n",
       "      <td>2.288</td>\n",
       "      <td>33</td>\n",
       "      <td>1</td>\n",
       "    </tr>\n",
       "    <tr>\n",
       "      <th>4</th>\n",
       "      <td>5</td>\n",
       "      <td>116</td>\n",
       "      <td>74</td>\n",
       "      <td>0</td>\n",
       "      <td>0</td>\n",
       "      <td>25.6</td>\n",
       "      <td>0.201</td>\n",
       "      <td>30</td>\n",
       "      <td>0</td>\n",
       "    </tr>\n",
       "    <tr>\n",
       "      <th>...</th>\n",
       "      <td>...</td>\n",
       "      <td>...</td>\n",
       "      <td>...</td>\n",
       "      <td>...</td>\n",
       "      <td>...</td>\n",
       "      <td>...</td>\n",
       "      <td>...</td>\n",
       "      <td>...</td>\n",
       "      <td>...</td>\n",
       "    </tr>\n",
       "    <tr>\n",
       "      <th>762</th>\n",
       "      <td>10</td>\n",
       "      <td>101</td>\n",
       "      <td>76</td>\n",
       "      <td>48</td>\n",
       "      <td>180</td>\n",
       "      <td>32.9</td>\n",
       "      <td>0.171</td>\n",
       "      <td>63</td>\n",
       "      <td>0</td>\n",
       "    </tr>\n",
       "    <tr>\n",
       "      <th>763</th>\n",
       "      <td>2</td>\n",
       "      <td>122</td>\n",
       "      <td>70</td>\n",
       "      <td>27</td>\n",
       "      <td>0</td>\n",
       "      <td>36.8</td>\n",
       "      <td>0.340</td>\n",
       "      <td>27</td>\n",
       "      <td>0</td>\n",
       "    </tr>\n",
       "    <tr>\n",
       "      <th>764</th>\n",
       "      <td>5</td>\n",
       "      <td>121</td>\n",
       "      <td>72</td>\n",
       "      <td>23</td>\n",
       "      <td>112</td>\n",
       "      <td>26.2</td>\n",
       "      <td>0.245</td>\n",
       "      <td>30</td>\n",
       "      <td>0</td>\n",
       "    </tr>\n",
       "    <tr>\n",
       "      <th>765</th>\n",
       "      <td>1</td>\n",
       "      <td>126</td>\n",
       "      <td>60</td>\n",
       "      <td>0</td>\n",
       "      <td>0</td>\n",
       "      <td>30.1</td>\n",
       "      <td>0.349</td>\n",
       "      <td>47</td>\n",
       "      <td>1</td>\n",
       "    </tr>\n",
       "    <tr>\n",
       "      <th>766</th>\n",
       "      <td>1</td>\n",
       "      <td>93</td>\n",
       "      <td>70</td>\n",
       "      <td>31</td>\n",
       "      <td>0</td>\n",
       "      <td>30.4</td>\n",
       "      <td>0.315</td>\n",
       "      <td>23</td>\n",
       "      <td>0</td>\n",
       "    </tr>\n",
       "  </tbody>\n",
       "</table>\n",
       "<p>767 rows × 9 columns</p>\n",
       "</div>"
      ],
      "text/plain": [
       "      6  148  72  35    0  33.6  0.627  50  1\n",
       "0     1   85  66  29    0  26.6  0.351  31  0\n",
       "1     8  183  64   0    0  23.3  0.672  32  1\n",
       "2     1   89  66  23   94  28.1  0.167  21  0\n",
       "3     0  137  40  35  168  43.1  2.288  33  1\n",
       "4     5  116  74   0    0  25.6  0.201  30  0\n",
       "..   ..  ...  ..  ..  ...   ...    ...  .. ..\n",
       "762  10  101  76  48  180  32.9  0.171  63  0\n",
       "763   2  122  70  27    0  36.8  0.340  27  0\n",
       "764   5  121  72  23  112  26.2  0.245  30  0\n",
       "765   1  126  60   0    0  30.1  0.349  47  1\n",
       "766   1   93  70  31    0  30.4  0.315  23  0\n",
       "\n",
       "[767 rows x 9 columns]"
      ]
     },
     "execution_count": 62,
     "metadata": {},
     "output_type": "execute_result"
    }
   ],
   "source": [
    "df"
   ]
  },
  {
   "cell_type": "code",
   "execution_count": 63,
   "id": "4ab25576",
   "metadata": {},
   "outputs": [],
   "source": [
    "df = pd.read_csv('pima-indians-diabetes-1.data',header=None)"
   ]
  },
  {
   "cell_type": "code",
   "execution_count": 64,
   "id": "0935e840",
   "metadata": {},
   "outputs": [
    {
     "data": {
      "text/html": [
       "<div>\n",
       "<style scoped>\n",
       "    .dataframe tbody tr th:only-of-type {\n",
       "        vertical-align: middle;\n",
       "    }\n",
       "\n",
       "    .dataframe tbody tr th {\n",
       "        vertical-align: top;\n",
       "    }\n",
       "\n",
       "    .dataframe thead th {\n",
       "        text-align: right;\n",
       "    }\n",
       "</style>\n",
       "<table border=\"1\" class=\"dataframe\">\n",
       "  <thead>\n",
       "    <tr style=\"text-align: right;\">\n",
       "      <th></th>\n",
       "      <th>0</th>\n",
       "      <th>1</th>\n",
       "      <th>2</th>\n",
       "      <th>3</th>\n",
       "      <th>4</th>\n",
       "      <th>5</th>\n",
       "      <th>6</th>\n",
       "      <th>7</th>\n",
       "      <th>8</th>\n",
       "    </tr>\n",
       "  </thead>\n",
       "  <tbody>\n",
       "    <tr>\n",
       "      <th>0</th>\n",
       "      <td>6</td>\n",
       "      <td>148</td>\n",
       "      <td>72</td>\n",
       "      <td>35</td>\n",
       "      <td>0</td>\n",
       "      <td>33.6</td>\n",
       "      <td>0.627</td>\n",
       "      <td>50</td>\n",
       "      <td>1</td>\n",
       "    </tr>\n",
       "    <tr>\n",
       "      <th>1</th>\n",
       "      <td>1</td>\n",
       "      <td>85</td>\n",
       "      <td>66</td>\n",
       "      <td>29</td>\n",
       "      <td>0</td>\n",
       "      <td>26.6</td>\n",
       "      <td>0.351</td>\n",
       "      <td>31</td>\n",
       "      <td>0</td>\n",
       "    </tr>\n",
       "    <tr>\n",
       "      <th>2</th>\n",
       "      <td>8</td>\n",
       "      <td>183</td>\n",
       "      <td>64</td>\n",
       "      <td>0</td>\n",
       "      <td>0</td>\n",
       "      <td>23.3</td>\n",
       "      <td>0.672</td>\n",
       "      <td>32</td>\n",
       "      <td>1</td>\n",
       "    </tr>\n",
       "    <tr>\n",
       "      <th>3</th>\n",
       "      <td>1</td>\n",
       "      <td>89</td>\n",
       "      <td>66</td>\n",
       "      <td>23</td>\n",
       "      <td>94</td>\n",
       "      <td>28.1</td>\n",
       "      <td>0.167</td>\n",
       "      <td>21</td>\n",
       "      <td>0</td>\n",
       "    </tr>\n",
       "    <tr>\n",
       "      <th>4</th>\n",
       "      <td>0</td>\n",
       "      <td>137</td>\n",
       "      <td>40</td>\n",
       "      <td>35</td>\n",
       "      <td>168</td>\n",
       "      <td>43.1</td>\n",
       "      <td>2.288</td>\n",
       "      <td>33</td>\n",
       "      <td>1</td>\n",
       "    </tr>\n",
       "  </tbody>\n",
       "</table>\n",
       "</div>"
      ],
      "text/plain": [
       "   0    1   2   3    4     5      6   7  8\n",
       "0  6  148  72  35    0  33.6  0.627  50  1\n",
       "1  1   85  66  29    0  26.6  0.351  31  0\n",
       "2  8  183  64   0    0  23.3  0.672  32  1\n",
       "3  1   89  66  23   94  28.1  0.167  21  0\n",
       "4  0  137  40  35  168  43.1  2.288  33  1"
      ]
     },
     "execution_count": 64,
     "metadata": {},
     "output_type": "execute_result"
    }
   ],
   "source": [
    "df.head()"
   ]
  },
  {
   "cell_type": "code",
   "execution_count": 65,
   "id": "c20c05f0",
   "metadata": {},
   "outputs": [],
   "source": [
    "values = df.values"
   ]
  },
  {
   "cell_type": "code",
   "execution_count": 66,
   "id": "eae8b738",
   "metadata": {},
   "outputs": [
    {
     "data": {
      "text/html": [
       "<div>\n",
       "<style scoped>\n",
       "    .dataframe tbody tr th:only-of-type {\n",
       "        vertical-align: middle;\n",
       "    }\n",
       "\n",
       "    .dataframe tbody tr th {\n",
       "        vertical-align: top;\n",
       "    }\n",
       "\n",
       "    .dataframe thead th {\n",
       "        text-align: right;\n",
       "    }\n",
       "</style>\n",
       "<table border=\"1\" class=\"dataframe\">\n",
       "  <thead>\n",
       "    <tr style=\"text-align: right;\">\n",
       "      <th></th>\n",
       "      <th>0</th>\n",
       "      <th>1</th>\n",
       "      <th>2</th>\n",
       "      <th>3</th>\n",
       "      <th>4</th>\n",
       "      <th>5</th>\n",
       "      <th>6</th>\n",
       "      <th>7</th>\n",
       "      <th>8</th>\n",
       "    </tr>\n",
       "  </thead>\n",
       "  <tbody>\n",
       "    <tr>\n",
       "      <th>0</th>\n",
       "      <td>6</td>\n",
       "      <td>148</td>\n",
       "      <td>72</td>\n",
       "      <td>35</td>\n",
       "      <td>0</td>\n",
       "      <td>33.6</td>\n",
       "      <td>0.627</td>\n",
       "      <td>50</td>\n",
       "      <td>1</td>\n",
       "    </tr>\n",
       "    <tr>\n",
       "      <th>1</th>\n",
       "      <td>1</td>\n",
       "      <td>85</td>\n",
       "      <td>66</td>\n",
       "      <td>29</td>\n",
       "      <td>0</td>\n",
       "      <td>26.6</td>\n",
       "      <td>0.351</td>\n",
       "      <td>31</td>\n",
       "      <td>0</td>\n",
       "    </tr>\n",
       "    <tr>\n",
       "      <th>2</th>\n",
       "      <td>8</td>\n",
       "      <td>183</td>\n",
       "      <td>64</td>\n",
       "      <td>0</td>\n",
       "      <td>0</td>\n",
       "      <td>23.3</td>\n",
       "      <td>0.672</td>\n",
       "      <td>32</td>\n",
       "      <td>1</td>\n",
       "    </tr>\n",
       "    <tr>\n",
       "      <th>3</th>\n",
       "      <td>1</td>\n",
       "      <td>89</td>\n",
       "      <td>66</td>\n",
       "      <td>23</td>\n",
       "      <td>94</td>\n",
       "      <td>28.1</td>\n",
       "      <td>0.167</td>\n",
       "      <td>21</td>\n",
       "      <td>0</td>\n",
       "    </tr>\n",
       "    <tr>\n",
       "      <th>4</th>\n",
       "      <td>0</td>\n",
       "      <td>137</td>\n",
       "      <td>40</td>\n",
       "      <td>35</td>\n",
       "      <td>168</td>\n",
       "      <td>43.1</td>\n",
       "      <td>2.288</td>\n",
       "      <td>33</td>\n",
       "      <td>1</td>\n",
       "    </tr>\n",
       "  </tbody>\n",
       "</table>\n",
       "</div>"
      ],
      "text/plain": [
       "   0    1   2   3    4     5      6   7  8\n",
       "0  6  148  72  35    0  33.6  0.627  50  1\n",
       "1  1   85  66  29    0  26.6  0.351  31  0\n",
       "2  8  183  64   0    0  23.3  0.672  32  1\n",
       "3  1   89  66  23   94  28.1  0.167  21  0\n",
       "4  0  137  40  35  168  43.1  2.288  33  1"
      ]
     },
     "execution_count": 66,
     "metadata": {},
     "output_type": "execute_result"
    }
   ],
   "source": [
    "df.head()"
   ]
  },
  {
   "cell_type": "code",
   "execution_count": 67,
   "id": "aec2fa34",
   "metadata": {},
   "outputs": [
    {
     "data": {
      "text/plain": [
       "(768, 9)"
      ]
     },
     "execution_count": 67,
     "metadata": {},
     "output_type": "execute_result"
    }
   ],
   "source": [
    "df.shape"
   ]
  },
  {
   "cell_type": "code",
   "execution_count": 68,
   "id": "5282c13e",
   "metadata": {},
   "outputs": [],
   "source": [
    "model_1 = LogisticRegression()\n",
    "model_2 = DecisionTreeClassifier(criterion='entropy',max_depth=5)"
   ]
  },
  {
   "cell_type": "code",
   "execution_count": 69,
   "id": "23782bf1",
   "metadata": {},
   "outputs": [
    {
     "data": {
      "text/plain": [
       "BaggingClassifier(base_estimator=DecisionTreeClassifier(criterion='entropy',\n",
       "                                                        max_depth=5),\n",
       "                  n_estimators=51)"
      ]
     },
     "execution_count": 69,
     "metadata": {},
     "output_type": "execute_result"
    }
   ],
   "source": [
    "from sklearn.ensemble import BaggingClassifier\n",
    "bgcl = BaggingClassifier(base_estimator=model_2,n_estimators=51)\n",
    "bgcl.fit(values[:,:-1],values[:,-1])"
   ]
  },
  {
   "cell_type": "code",
   "execution_count": 70,
   "id": "8b874bf1",
   "metadata": {},
   "outputs": [
    {
     "name": "stdout",
     "output_type": "stream",
     "text": [
      "[[2.000e+00 1.220e+02 7.600e+01 2.700e+01 2.000e+02 3.590e+01 4.830e-01\n",
      "  2.600e+01 0.000e+00]\n",
      " [6.000e+00 1.250e+02 7.800e+01 3.100e+01 0.000e+00 2.760e+01 5.650e-01\n",
      "  4.900e+01 1.000e+00]\n",
      " [1.000e+00 1.680e+02 8.800e+01 2.900e+01 0.000e+00 3.500e+01 9.050e-01\n",
      "  5.200e+01 1.000e+00]\n",
      " [2.000e+00 1.290e+02 0.000e+00 0.000e+00 0.000e+00 3.850e+01 3.040e-01\n",
      "  4.100e+01 0.000e+00]\n",
      " [4.000e+00 1.100e+02 7.600e+01 2.000e+01 1.000e+02 2.840e+01 1.180e-01\n",
      "  2.700e+01 0.000e+00]\n",
      " [6.000e+00 8.000e+01 8.000e+01 3.600e+01 0.000e+00 3.980e+01 1.770e-01\n",
      "  2.800e+01 0.000e+00]\n",
      " [1.000e+01 1.150e+02 0.000e+00 0.000e+00 0.000e+00 0.000e+00 2.610e-01\n",
      "  3.000e+01 1.000e+00]\n",
      " [2.000e+00 1.270e+02 4.600e+01 2.100e+01 3.350e+02 3.440e+01 1.760e-01\n",
      "  2.200e+01 0.000e+00]\n",
      " [9.000e+00 1.640e+02 7.800e+01 0.000e+00 0.000e+00 3.280e+01 1.480e-01\n",
      "  4.500e+01 1.000e+00]\n",
      " [2.000e+00 9.300e+01 6.400e+01 3.200e+01 1.600e+02 3.800e+01 6.740e-01\n",
      "  2.300e+01 1.000e+00]\n",
      " [3.000e+00 1.580e+02 6.400e+01 1.300e+01 3.870e+02 3.120e+01 2.950e-01\n",
      "  2.400e+01 0.000e+00]\n",
      " [5.000e+00 1.260e+02 7.800e+01 2.700e+01 2.200e+01 2.960e+01 4.390e-01\n",
      "  4.000e+01 0.000e+00]\n",
      " [1.000e+01 1.290e+02 6.200e+01 3.600e+01 0.000e+00 4.120e+01 4.410e-01\n",
      "  3.800e+01 1.000e+00]\n",
      " [0.000e+00 1.340e+02 5.800e+01 2.000e+01 2.910e+02 2.640e+01 3.520e-01\n",
      "  2.100e+01 0.000e+00]\n",
      " [3.000e+00 1.020e+02 7.400e+01 0.000e+00 0.000e+00 2.950e+01 1.210e-01\n",
      "  3.200e+01 0.000e+00]\n",
      " [7.000e+00 1.870e+02 5.000e+01 3.300e+01 3.920e+02 3.390e+01 8.260e-01\n",
      "  3.400e+01 1.000e+00]\n",
      " [3.000e+00 1.730e+02 7.800e+01 3.900e+01 1.850e+02 3.380e+01 9.700e-01\n",
      "  3.100e+01 1.000e+00]\n",
      " [1.000e+01 9.400e+01 7.200e+01 1.800e+01 0.000e+00 2.310e+01 5.950e-01\n",
      "  5.600e+01 0.000e+00]\n",
      " [1.000e+00 1.080e+02 6.000e+01 4.600e+01 1.780e+02 3.550e+01 4.150e-01\n",
      "  2.400e+01 0.000e+00]\n",
      " [5.000e+00 9.700e+01 7.600e+01 2.700e+01 0.000e+00 3.560e+01 3.780e-01\n",
      "  5.200e+01 1.000e+00]\n",
      " [4.000e+00 8.300e+01 8.600e+01 1.900e+01 0.000e+00 2.930e+01 3.170e-01\n",
      "  3.400e+01 0.000e+00]\n",
      " [1.000e+00 1.140e+02 6.600e+01 3.600e+01 2.000e+02 3.810e+01 2.890e-01\n",
      "  2.100e+01 0.000e+00]\n",
      " [1.000e+00 1.490e+02 6.800e+01 2.900e+01 1.270e+02 2.930e+01 3.490e-01\n",
      "  4.200e+01 1.000e+00]\n",
      " [5.000e+00 1.170e+02 8.600e+01 3.000e+01 1.050e+02 3.910e+01 2.510e-01\n",
      "  4.200e+01 0.000e+00]\n",
      " [1.000e+00 1.110e+02 9.400e+01 0.000e+00 0.000e+00 3.280e+01 2.650e-01\n",
      "  4.500e+01 0.000e+00]\n",
      " [4.000e+00 1.120e+02 7.800e+01 4.000e+01 0.000e+00 3.940e+01 2.360e-01\n",
      "  3.800e+01 0.000e+00]\n",
      " [1.000e+00 1.160e+02 7.800e+01 2.900e+01 1.800e+02 3.610e+01 4.960e-01\n",
      "  2.500e+01 0.000e+00]\n",
      " [0.000e+00 1.410e+02 8.400e+01 2.600e+01 0.000e+00 3.240e+01 4.330e-01\n",
      "  2.200e+01 0.000e+00]\n",
      " [2.000e+00 1.750e+02 8.800e+01 0.000e+00 0.000e+00 2.290e+01 3.260e-01\n",
      "  2.200e+01 0.000e+00]\n",
      " [2.000e+00 9.200e+01 5.200e+01 0.000e+00 0.000e+00 3.010e+01 1.410e-01\n",
      "  2.200e+01 0.000e+00]\n",
      " [3.000e+00 1.300e+02 7.800e+01 2.300e+01 7.900e+01 2.840e+01 3.230e-01\n",
      "  3.400e+01 1.000e+00]\n",
      " [8.000e+00 1.200e+02 8.600e+01 0.000e+00 0.000e+00 2.840e+01 2.590e-01\n",
      "  2.200e+01 1.000e+00]\n",
      " [2.000e+00 1.740e+02 8.800e+01 3.700e+01 1.200e+02 4.450e+01 6.460e-01\n",
      "  2.400e+01 1.000e+00]\n",
      " [2.000e+00 1.060e+02 5.600e+01 2.700e+01 1.650e+02 2.900e+01 4.260e-01\n",
      "  2.200e+01 0.000e+00]\n",
      " [2.000e+00 1.050e+02 7.500e+01 0.000e+00 0.000e+00 2.330e+01 5.600e-01\n",
      "  5.300e+01 0.000e+00]\n",
      " [4.000e+00 9.500e+01 6.000e+01 3.200e+01 0.000e+00 3.540e+01 2.840e-01\n",
      "  2.800e+01 0.000e+00]\n",
      " [0.000e+00 1.260e+02 8.600e+01 2.700e+01 1.200e+02 2.740e+01 5.150e-01\n",
      "  2.100e+01 0.000e+00]\n",
      " [8.000e+00 6.500e+01 7.200e+01 2.300e+01 0.000e+00 3.200e+01 6.000e-01\n",
      "  4.200e+01 0.000e+00]\n",
      " [2.000e+00 9.900e+01 6.000e+01 1.700e+01 1.600e+02 3.660e+01 4.530e-01\n",
      "  2.100e+01 0.000e+00]\n",
      " [1.000e+00 1.020e+02 7.400e+01 0.000e+00 0.000e+00 3.950e+01 2.930e-01\n",
      "  4.200e+01 1.000e+00]\n",
      " [1.100e+01 1.200e+02 8.000e+01 3.700e+01 1.500e+02 4.230e+01 7.850e-01\n",
      "  4.800e+01 1.000e+00]\n",
      " [3.000e+00 1.020e+02 4.400e+01 2.000e+01 9.400e+01 3.080e+01 4.000e-01\n",
      "  2.600e+01 0.000e+00]\n",
      " [1.000e+00 1.090e+02 5.800e+01 1.800e+01 1.160e+02 2.850e+01 2.190e-01\n",
      "  2.200e+01 0.000e+00]\n",
      " [9.000e+00 1.400e+02 9.400e+01 0.000e+00 0.000e+00 3.270e+01 7.340e-01\n",
      "  4.500e+01 1.000e+00]\n",
      " [1.300e+01 1.530e+02 8.800e+01 3.700e+01 1.400e+02 4.060e+01 1.174e+00\n",
      "  3.900e+01 0.000e+00]\n",
      " [1.200e+01 1.000e+02 8.400e+01 3.300e+01 1.050e+02 3.000e+01 4.880e-01\n",
      "  4.600e+01 0.000e+00]\n",
      " [1.000e+00 1.470e+02 9.400e+01 4.100e+01 0.000e+00 4.930e+01 3.580e-01\n",
      "  2.700e+01 1.000e+00]\n",
      " [1.000e+00 8.100e+01 7.400e+01 4.100e+01 5.700e+01 4.630e+01 1.096e+00\n",
      "  3.200e+01 0.000e+00]\n",
      " [3.000e+00 1.870e+02 7.000e+01 2.200e+01 2.000e+02 3.640e+01 4.080e-01\n",
      "  3.600e+01 1.000e+00]\n",
      " [6.000e+00 1.620e+02 6.200e+01 0.000e+00 0.000e+00 2.430e+01 1.780e-01\n",
      "  5.000e+01 1.000e+00]\n",
      " [4.000e+00 1.360e+02 7.000e+01 0.000e+00 0.000e+00 3.120e+01 1.182e+00\n",
      "  2.200e+01 1.000e+00]\n",
      " [1.000e+00 1.210e+02 7.800e+01 3.900e+01 7.400e+01 3.900e+01 2.610e-01\n",
      "  2.800e+01 0.000e+00]\n",
      " [3.000e+00 1.080e+02 6.200e+01 2.400e+01 0.000e+00 2.600e+01 2.230e-01\n",
      "  2.500e+01 0.000e+00]\n",
      " [0.000e+00 1.810e+02 8.800e+01 4.400e+01 5.100e+02 4.330e+01 2.220e-01\n",
      "  2.600e+01 1.000e+00]\n",
      " [8.000e+00 1.540e+02 7.800e+01 3.200e+01 0.000e+00 3.240e+01 4.430e-01\n",
      "  4.500e+01 1.000e+00]\n",
      " [1.000e+00 1.280e+02 8.800e+01 3.900e+01 1.100e+02 3.650e+01 1.057e+00\n",
      "  3.700e+01 1.000e+00]\n",
      " [7.000e+00 1.370e+02 9.000e+01 4.100e+01 0.000e+00 3.200e+01 3.910e-01\n",
      "  3.900e+01 0.000e+00]\n",
      " [0.000e+00 1.230e+02 7.200e+01 0.000e+00 0.000e+00 3.630e+01 2.580e-01\n",
      "  5.200e+01 1.000e+00]\n",
      " [1.000e+00 1.060e+02 7.600e+01 0.000e+00 0.000e+00 3.750e+01 1.970e-01\n",
      "  2.600e+01 0.000e+00]\n",
      " [6.000e+00 1.900e+02 9.200e+01 0.000e+00 0.000e+00 3.550e+01 2.780e-01\n",
      "  6.600e+01 1.000e+00]\n",
      " [2.000e+00 8.800e+01 5.800e+01 2.600e+01 1.600e+01 2.840e+01 7.660e-01\n",
      "  2.200e+01 0.000e+00]\n",
      " [9.000e+00 1.700e+02 7.400e+01 3.100e+01 0.000e+00 4.400e+01 4.030e-01\n",
      "  4.300e+01 1.000e+00]\n",
      " [9.000e+00 8.900e+01 6.200e+01 0.000e+00 0.000e+00 2.250e+01 1.420e-01\n",
      "  3.300e+01 0.000e+00]\n",
      " [1.000e+01 1.010e+02 7.600e+01 4.800e+01 1.800e+02 3.290e+01 1.710e-01\n",
      "  6.300e+01 0.000e+00]\n",
      " [2.000e+00 1.220e+02 7.000e+01 2.700e+01 0.000e+00 3.680e+01 3.400e-01\n",
      "  2.700e+01 0.000e+00]\n",
      " [5.000e+00 1.210e+02 7.200e+01 2.300e+01 1.120e+02 2.620e+01 2.450e-01\n",
      "  3.000e+01 0.000e+00]\n",
      " [1.000e+00 1.260e+02 6.000e+01 0.000e+00 0.000e+00 3.010e+01 3.490e-01\n",
      "  4.700e+01 1.000e+00]\n",
      " [1.000e+00 9.300e+01 7.000e+01 3.100e+01 0.000e+00 3.040e+01 3.150e-01\n",
      "  2.300e+01 0.000e+00]]\n"
     ]
    }
   ],
   "source": [
    "prod_data = values[700:,]\n",
    "print(prod_data)"
   ]
  },
  {
   "cell_type": "code",
   "execution_count": 71,
   "id": "76af53d4",
   "metadata": {},
   "outputs": [
    {
     "data": {
      "text/plain": [
       "(68, 9)"
      ]
     },
     "execution_count": 71,
     "metadata": {},
     "output_type": "execute_result"
    }
   ],
   "source": [
    "prod_data.shape"
   ]
  },
  {
   "cell_type": "code",
   "execution_count": 72,
   "id": "624dce6f",
   "metadata": {},
   "outputs": [
    {
     "data": {
      "text/plain": [
       "(700, 9)"
      ]
     },
     "execution_count": 72,
     "metadata": {},
     "output_type": "execute_result"
    }
   ],
   "source": [
    "values = values[:700,]\n",
    "values.shape"
   ]
  },
  {
   "cell_type": "code",
   "execution_count": 73,
   "id": "2e9f0161",
   "metadata": {},
   "outputs": [
    {
     "data": {
      "text/plain": [
       "array([0., 1., 1., 1., 0., 0., 1., 0., 1., 0., 1., 0., 1., 0., 0., 1., 1.,\n",
       "       0., 0., 0., 0., 0., 1., 0., 0., 0., 0., 0., 0., 0., 0., 0., 1., 0.,\n",
       "       0., 0., 0., 0., 0., 0., 1., 0., 0., 1., 1., 0., 1., 0., 1., 1., 1.,\n",
       "       0., 0., 1., 1., 1., 1., 0., 0., 1., 0., 1., 0., 0., 0., 0., 1., 0.])"
      ]
     },
     "execution_count": 73,
     "metadata": {},
     "output_type": "execute_result"
    }
   ],
   "source": [
    "prod_pred = bgcl.predict(prod_data[:,:-1]) \n",
    "prod_pred"
   ]
  },
  {
   "cell_type": "code",
   "execution_count": 74,
   "id": "2c4e01fe",
   "metadata": {},
   "outputs": [
    {
     "data": {
      "text/plain": [
       "0.8529411764705882"
      ]
     },
     "execution_count": 74,
     "metadata": {},
     "output_type": "execute_result"
    }
   ],
   "source": [
    "#Accuracy\n",
    "acc = metrics.accuracy_score(prod_data[:,-1],prod_pred)\n",
    "acc"
   ]
  },
  {
   "cell_type": "code",
   "execution_count": 75,
   "id": "e2e0ffb1",
   "metadata": {},
   "outputs": [
    {
     "name": "stdout",
     "output_type": "stream",
     "text": [
      "              precision    recall  f1-score   support\n",
      "\n",
      "         0.0       0.86      0.90      0.88        41\n",
      "         1.0       0.84      0.78      0.81        27\n",
      "\n",
      "    accuracy                           0.85        68\n",
      "   macro avg       0.85      0.84      0.84        68\n",
      "weighted avg       0.85      0.85      0.85        68\n",
      "\n"
     ]
    }
   ],
   "source": [
    "#Classification Report\n",
    "cr = metrics.classification_report(prod_data[:,-1],prod_pred)\n",
    "print(cr)"
   ]
  },
  {
   "cell_type": "code",
   "execution_count": 76,
   "id": "914d9972",
   "metadata": {},
   "outputs": [
    {
     "data": {
      "text/plain": [
       "AdaBoostClassifier(base_estimator=DecisionTreeClassifier(criterion='entropy',\n",
       "                                                         max_depth=5),\n",
       "                   n_estimators=51)"
      ]
     },
     "execution_count": 76,
     "metadata": {},
     "output_type": "execute_result"
    }
   ],
   "source": [
    "from sklearn.ensemble import AdaBoostClassifier\n",
    "abcl = AdaBoostClassifier(base_estimator = model_2,n_estimators = 51)\n",
    "abcl.fit(values[:,:-1],values[:,-1])"
   ]
  },
  {
   "cell_type": "code",
   "execution_count": 77,
   "id": "0719fe61",
   "metadata": {},
   "outputs": [
    {
     "data": {
      "text/plain": [
       "array([0., 0., 1., 1., 0., 0., 0., 0., 1., 0., 1., 0., 1., 0., 1., 1., 1.,\n",
       "       0., 0., 0., 0., 0., 1., 0., 0., 0., 0., 1., 0., 0., 0., 0., 1., 0.,\n",
       "       0., 0., 0., 0., 0., 0., 1., 0., 0., 1., 1., 1., 1., 0., 1., 1., 1.,\n",
       "       0., 0., 0., 1., 1., 1., 1., 0., 0., 0., 1., 0., 0., 0., 0., 1., 0.])"
      ]
     },
     "execution_count": 77,
     "metadata": {},
     "output_type": "execute_result"
    }
   ],
   "source": [
    "y_pred_boost  =abcl.predict(prod_data[:,:-1])\n",
    "y_pred_boost"
   ]
  },
  {
   "cell_type": "code",
   "execution_count": 78,
   "id": "9b4172d1",
   "metadata": {},
   "outputs": [
    {
     "data": {
      "text/plain": [
       "0.7647058823529411"
      ]
     },
     "execution_count": 78,
     "metadata": {},
     "output_type": "execute_result"
    }
   ],
   "source": [
    "#Accuracy\n",
    "metrics.accuracy_score(prod_data[:,-1],y_pred_boost)"
   ]
  },
  {
   "cell_type": "code",
   "execution_count": 79,
   "id": "84ee049d",
   "metadata": {},
   "outputs": [
    {
     "data": {
      "text/plain": [
       "GradientBoostingClassifier(n_estimators=51)"
      ]
     },
     "execution_count": 79,
     "metadata": {},
     "output_type": "execute_result"
    }
   ],
   "source": [
    "from sklearn.ensemble import GradientBoostingClassifier\n",
    "gbcl = GradientBoostingClassifier(n_estimators = 51)\n",
    "gbcl.fit(values[:,:-1],values[:,-1])"
   ]
  },
  {
   "cell_type": "code",
   "execution_count": 80,
   "id": "f8e3748d",
   "metadata": {},
   "outputs": [
    {
     "data": {
      "text/plain": [
       "0.7647058823529411"
      ]
     },
     "execution_count": 80,
     "metadata": {},
     "output_type": "execute_result"
    }
   ],
   "source": [
    "y_predict=gbcl.predict(prod_data[:,:-1])\n",
    "metrics.accuracy_score(prod_data[:,-1],y_predict)"
   ]
  },
  {
   "cell_type": "code",
   "execution_count": 81,
   "id": "b4340563",
   "metadata": {},
   "outputs": [
    {
     "name": "stdout",
     "output_type": "stream",
     "text": [
      "              precision    recall  f1-score   support\n",
      "\n",
      "         0.0       0.78      0.85      0.81        41\n",
      "         1.0       0.74      0.63      0.68        27\n",
      "\n",
      "    accuracy                           0.76        68\n",
      "   macro avg       0.76      0.74      0.75        68\n",
      "weighted avg       0.76      0.76      0.76        68\n",
      "\n"
     ]
    }
   ],
   "source": [
    "cr=metrics.classification_report(prod_data[:,-1],y_predict)\n",
    "print(cr)"
   ]
  },
  {
   "cell_type": "code",
   "execution_count": 82,
   "id": "24854bec",
   "metadata": {},
   "outputs": [],
   "source": [
    "from sklearn.metrics import roc_curve, auc"
   ]
  },
  {
   "cell_type": "code",
   "execution_count": 84,
   "id": "0622ea1b",
   "metadata": {},
   "outputs": [
    {
     "name": "stdout",
     "output_type": "stream",
     "text": [
      "Area Under the curve 0.8401084010840107\n"
     ]
    },
    {
     "data": {
      "image/png": "[encoded data removed]",
      "text/plain": [
       "<Figure size 432x288 with 1 Axes>"
      ]
     },
     "metadata": {
      "needs_background": "light"
     },
     "output_type": "display_data"
    }
   ],
   "source": [
    "fpr,tpr, _ = roc_curve(prod_data[:,-1],prod_pred)\n",
    "roc_auc = auc(fpr, tpr)\n",
    "\n",
    "print('Area Under the curve',roc_auc)\n",
    "plt.figure()\n",
    "plt.plot(fpr, tpr)\n",
    "plt.xlim([0.0, 1.0])\n",
    "plt.ylim([0.0, 1.0])\n",
    "plt.xlabel('False Positive Rate')\n",
    "plt.ylabel('True Positive Rate')\n",
    "plt.title('Receiver operating characteristic')\n",
    "plt.show()"
   ]
  },
  {
   "cell_type": "code",
   "execution_count": null,
   "id": "ae6881aa",
   "metadata": {},
   "outputs": [],
   "source": []
  }
 ],
 "metadata": {
  "kernelspec": {
   "display_name": "Python 3",
   "language": "python",
   "name": "python3"
  },
  "language_info": {
   "codemirror_mode": {
    "name": "ipython",
    "version": 3
   },
   "file_extension": ".py",
   "mimetype": "text/x-python",
   "name": "python",
   "nbconvert_exporter": "python",
   "pygments_lexer": "ipython3",
   "version": "3.8.8"
  }
 },
 "nbformat": 4,
 "nbformat_minor": 5
}
